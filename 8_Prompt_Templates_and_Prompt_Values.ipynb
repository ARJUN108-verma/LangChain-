{
  "nbformat": 4,
  "nbformat_minor": 0,
  "metadata": {
    "colab": {
      "private_outputs": true,
      "provenance": [],
      "authorship_tag": "ABX9TyOXohyLrURR5DmibmTOK6W7",
      "include_colab_link": true
    },
    "kernelspec": {
      "name": "python3",
      "display_name": "Python 3"
    },
    "language_info": {
      "name": "python"
    }
  },
  "cells": [
    {
      "cell_type": "markdown",
      "metadata": {
        "id": "view-in-github",
        "colab_type": "text"
      },
      "source": [
        "<a href=\"https://colab.research.google.com/github/ARJUN108-verma/LangChain-/blob/main/8_Prompt_Templates_and_Prompt_Values.ipynb\" target=\"_parent\"><img src=\"https://colab.research.google.com/assets/colab-badge.svg\" alt=\"Open In Colab\"/></a>"
      ]
    },
    {
      "cell_type": "markdown",
      "source": [
        "Prompt_Templates_and_Prompt_Values:-"
      ],
      "metadata": {
        "id": "aDlPo5XAD6P9"
      }
    },
    {
      "cell_type": "code",
      "execution_count": null,
      "metadata": {
        "id": "_s4BrFafDfHb"
      },
      "outputs": [],
      "source": [
        "pip show langchain"
      ]
    },
    {
      "cell_type": "code",
      "source": [
        "from langchain_core.prompts import PromptTemplate"
      ],
      "metadata": {
        "id": "GeTQMsAvETQs"
      },
      "execution_count": null,
      "outputs": []
    },
    {
      "cell_type": "code",
      "source": [
        "from re import TEMPLATE\n"
      ],
      "metadata": {
        "id": "9stKnw-yEh4n"
      },
      "execution_count": null,
      "outputs": []
    },
    {
      "cell_type": "code",
      "source": [
        "TEMPLATE = '''\n",
        "System:\n",
        "{description}\n",
        "\n",
        "Human:\n",
        "I have recently adopted a {pet}.\n",
        "could you suggest some {pet} names?\n",
        "'''"
      ],
      "metadata": {
        "id": "BKU0glJBE6f8"
      },
      "execution_count": null,
      "outputs": []
    },
    {
      "cell_type": "code",
      "source": [
        "prompt_templates = PromptTemplate.from_template(template= TEMPLATE)"
      ],
      "metadata": {
        "id": "hWKXVo1eF1dZ"
      },
      "execution_count": null,
      "outputs": []
    },
    {
      "cell_type": "code",
      "source": [
        "prompt_templates"
      ],
      "metadata": {
        "id": "_i7BYUFCGyzW"
      },
      "execution_count": null,
      "outputs": []
    },
    {
      "cell_type": "code",
      "source": [
        "prompt_values = prompt_templates.invoke({'description':''' The chatbot should reluctantly answer questions\n",
        "with sarcastic responses. ''',\n",
        "                                       'pet':'dog'})"
      ],
      "metadata": {
        "id": "TRcmNtujG2n2"
      },
      "execution_count": null,
      "outputs": []
    },
    {
      "cell_type": "code",
      "source": [
        "prompt_values"
      ],
      "metadata": {
        "id": "t4aBU_KAHgre"
      },
      "execution_count": null,
      "outputs": []
    },
    {
      "cell_type": "code",
      "source": [
        "print(prompt_values.text)"
      ],
      "metadata": {
        "id": "yHyke5zkHi1Y"
      },
      "execution_count": null,
      "outputs": []
    },
    {
      "cell_type": "code",
      "source": [],
      "metadata": {
        "id": "Byj6qSFnHpLp"
      },
      "execution_count": null,
      "outputs": []
    }
  ]
}