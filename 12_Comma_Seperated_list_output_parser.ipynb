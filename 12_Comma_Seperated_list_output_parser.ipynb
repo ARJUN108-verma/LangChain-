{
  "nbformat": 4,
  "nbformat_minor": 0,
  "metadata": {
    "colab": {
      "private_outputs": true,
      "provenance": [],
      "authorship_tag": "ABX9TyOfh/SdhvDUop/O0sihr687",
      "include_colab_link": true
    },
    "kernelspec": {
      "name": "python3",
      "display_name": "Python 3"
    },
    "language_info": {
      "name": "python"
    }
  },
  "cells": [
    {
      "cell_type": "markdown",
      "metadata": {
        "id": "view-in-github",
        "colab_type": "text"
      },
      "source": [
        "<a href=\"https://colab.research.google.com/github/ARJUN108-verma/LangChain-/blob/main/12_Comma_Seperated_list_output_parser.ipynb\" target=\"_parent\"><img src=\"https://colab.research.google.com/assets/colab-badge.svg\" alt=\"Open In Colab\"/></a>"
      ]
    },
    {
      "cell_type": "markdown",
      "source": [
        "Comma-Seperated list Output parser:-"
      ],
      "metadata": {
        "id": "m3xzPm39RGSE"
      }
    },
    {
      "cell_type": "code",
      "execution_count": null,
      "metadata": {
        "id": "Q-ET_af_RCdf"
      },
      "outputs": [],
      "source": [
        "pip show langchain"
      ]
    },
    {
      "cell_type": "code",
      "source": [
        "!pip install dotenv"
      ],
      "metadata": {
        "id": "zvg2XDrHSFbd"
      },
      "execution_count": null,
      "outputs": []
    },
    {
      "cell_type": "code",
      "source": [
        "%load_ext dotenv\n",
        "%dotenv"
      ],
      "metadata": {
        "id": "4RMgRNZvRy2F"
      },
      "execution_count": null,
      "outputs": []
    },
    {
      "cell_type": "code",
      "source": [
        "!pip install langchain_openai"
      ],
      "metadata": {
        "id": "or2bRULRTG6O"
      },
      "execution_count": null,
      "outputs": []
    },
    {
      "cell_type": "code",
      "source": [
        "  from langchain_openai.chat_models import ChatOpenAI"
      ],
      "metadata": {
        "id": "icDPr3gXSD2Z"
      },
      "execution_count": null,
      "outputs": []
    },
    {
      "cell_type": "code",
      "source": [
        "from langchain_core.messages import HumanMessage"
      ],
      "metadata": {
        "id": "AnUBAGqZTDwt"
      },
      "execution_count": null,
      "outputs": []
    },
    {
      "cell_type": "code",
      "source": [
        "from langchain_core.output_parsers import CommaSeparatedListOutputParser"
      ],
      "metadata": {
        "id": "tfLYzt9RTnZS"
      },
      "execution_count": null,
      "outputs": []
    },
    {
      "cell_type": "code",
      "source": [
        "chat = ChatOpenAI(api_key= \"Enter API key\",\n",
        "                  model_name = 'gpt-4o',\n",
        "                  model_kwargs= {'seed': 365},\n",
        "                  temperature= 0,\n",
        "                  max_tokens = 100)"
      ],
      "metadata": {
        "id": "3PcXUjaIUNYU"
      },
      "execution_count": null,
      "outputs": []
    },
    {
      "cell_type": "code",
      "source": [
        "message_h = HumanMessage(content= f'''I have recentaly adopted a dog . could you suggest some dog name?\n",
        "{CommaSeparatedListOutputParser().get_format_instructions()}\n",
        "                         ''')"
      ],
      "metadata": {
        "id": "GngYevkbVIbS"
      },
      "execution_count": null,
      "outputs": []
    },
    {
      "cell_type": "code",
      "source": [
        "print(message_h.content)"
      ],
      "metadata": {
        "id": "-9xdSXiDWYJt"
      },
      "execution_count": null,
      "outputs": []
    },
    {
      "cell_type": "code",
      "source": [
        "response = chat.invoke([message_h])"
      ],
      "metadata": {
        "id": "3Wj1tVwtWgSW"
      },
      "execution_count": null,
      "outputs": []
    },
    {
      "cell_type": "code",
      "source": [
        "print(response.content)"
      ],
      "metadata": {
        "id": "pwBaeemYW8QO"
      },
      "execution_count": null,
      "outputs": []
    },
    {
      "cell_type": "code",
      "source": [
        "list_output_parser = CommaSeparatedListOutputParser()"
      ],
      "metadata": {
        "id": "NO1SrBczXDBO"
      },
      "execution_count": null,
      "outputs": []
    },
    {
      "cell_type": "code",
      "source": [
        "response_parser = list_output_parser.invoke(response)"
      ],
      "metadata": {
        "id": "9f-yzxZhXNZJ"
      },
      "execution_count": null,
      "outputs": []
    },
    {
      "cell_type": "code",
      "source": [
        "response_parser"
      ],
      "metadata": {
        "id": "tqthZ4-tXaKC"
      },
      "execution_count": null,
      "outputs": []
    },
    {
      "cell_type": "code",
      "source": [
        "print(list_output_parser.get_format_instructions())"
      ],
      "metadata": {
        "id": "fyhyf_UvXeIR"
      },
      "execution_count": null,
      "outputs": []
    },
    {
      "cell_type": "code",
      "source": [],
      "metadata": {
        "id": "YhhQoQ04Xod3"
      },
      "execution_count": null,
      "outputs": []
    }
  ]
}