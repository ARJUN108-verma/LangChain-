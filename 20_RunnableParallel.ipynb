{
  "nbformat": 4,
  "nbformat_minor": 0,
  "metadata": {
    "colab": {
      "private_outputs": true,
      "provenance": [],
      "authorship_tag": "ABX9TyObaENesZ0BHokuJIsyGTs3",
      "include_colab_link": true
    },
    "kernelspec": {
      "name": "python3",
      "display_name": "Python 3"
    },
    "language_info": {
      "name": "python"
    }
  },
  "cells": [
    {
      "cell_type": "markdown",
      "metadata": {
        "id": "view-in-github",
        "colab_type": "text"
      },
      "source": [
        "<a href=\"https://colab.research.google.com/github/ARJUN108-verma/LangChain-/blob/main/20_RunnableParallel.ipynb\" target=\"_parent\"><img src=\"https://colab.research.google.com/assets/colab-badge.svg\" alt=\"Open In Colab\"/></a>"
      ]
    },
    {
      "cell_type": "markdown",
      "source": [
        "RunnableParallel:-"
      ],
      "metadata": {
        "id": "rg_OrTaMirDy"
      }
    },
    {
      "cell_type": "code",
      "execution_count": null,
      "metadata": {
        "id": "wPCuy0q9iiM3"
      },
      "outputs": [],
      "source": [
        "pip show langchain"
      ]
    },
    {
      "cell_type": "code",
      "source": [
        "!pip install dotenv"
      ],
      "metadata": {
        "id": "yhxKV4v9jACi"
      },
      "execution_count": null,
      "outputs": []
    },
    {
      "cell_type": "code",
      "source": [
        "%load_ext dotenv"
      ],
      "metadata": {
        "id": "J8WVoyuYi3NE"
      },
      "execution_count": null,
      "outputs": []
    },
    {
      "cell_type": "code",
      "source": [
        "%dotenv"
      ],
      "metadata": {
        "id": "3sGJSaXNi9Fo"
      },
      "execution_count": null,
      "outputs": []
    },
    {
      "cell_type": "code",
      "source": [
        "from langchain_core.prompts import ChatPromptTemplate"
      ],
      "metadata": {
        "id": "ioD3kxJQjEPD"
      },
      "execution_count": null,
      "outputs": []
    },
    {
      "cell_type": "code",
      "source": [
        "!pip install langchain_openai"
      ],
      "metadata": {
        "id": "mIb8F9WSjeqc"
      },
      "execution_count": null,
      "outputs": []
    },
    {
      "cell_type": "code",
      "source": [
        "from langchain_openai import ChatOpenAI"
      ],
      "metadata": {
        "id": "Sj4VBGZUjR-L"
      },
      "execution_count": null,
      "outputs": []
    },
    {
      "cell_type": "code",
      "source": [
        "from langchain_core.output_parsers import StrOutputParser"
      ],
      "metadata": {
        "id": "x818hATeAf-a"
      },
      "execution_count": null,
      "outputs": []
    },
    {
      "cell_type": "code",
      "source": [
        "from langchain_core.runnables import RunnableParallel"
      ],
      "metadata": {
        "id": "HTR-zngDApaS"
      },
      "execution_count": null,
      "outputs": []
    },
    {
      "cell_type": "code",
      "source": [
        "chat_template_books = ChatPromptTemplate.from_template(\n",
        "    '''\n",
        "    Suggest three of the best intermediate-level {programming language} books.\n",
        "    Answer only by listing the books.\n",
        "    '''\n",
        ")\n",
        "\n",
        "chat_template_projects = ChatPromptTemplate.from_template(\n",
        "    '''\n",
        "    Suggest three interesting {programming language} projects suitable for intermediate-level programmers.\n",
        "    Answer only by listing the projects.\n",
        "    '''\n",
        ")"
      ],
      "metadata": {
        "id": "vZwhgfKScDGN"
      },
      "execution_count": null,
      "outputs": []
    },
    {
      "cell_type": "code",
      "source": [
        "chat = ChatOpenAI(api_key = \"Enter openAI API\",\n",
        "                  model_name = 'gpt-4o',\n",
        "                  model_kwargs= {'seed':365},\n",
        "                  temperature = 0,\n",
        "                  max_tokens = 108)"
      ],
      "metadata": {
        "id": "EGoM0WMMkG6_"
      },
      "execution_count": null,
      "outputs": []
    },
    {
      "cell_type": "code",
      "source": [
        "string_parser = StrOutputParser()"
      ],
      "metadata": {
        "id": "z1-Ze3b8593A"
      },
      "execution_count": null,
      "outputs": []
    },
    {
      "cell_type": "code",
      "source": [
        "chain_books = chat_template_books | chat | string_parser"
      ],
      "metadata": {
        "id": "gxXFGVvcXpox"
      },
      "execution_count": null,
      "outputs": []
    },
    {
      "cell_type": "code",
      "source": [
        "chain_projects = chat_template_projects | chat | string_parser"
      ],
      "metadata": {
        "id": "rJiSlmy9crue"
      },
      "execution_count": null,
      "outputs": []
    },
    {
      "cell_type": "code",
      "source": [
        "chain_parallel = RunnableParallel({'books':chain_books, 'projects':chain_projects})"
      ],
      "metadata": {
        "id": "HZHq32x8c0c-"
      },
      "execution_count": null,
      "outputs": []
    },
    {
      "cell_type": "code",
      "source": [
        "chain_parallel.invoke({'programming language':'Python'})"
      ],
      "metadata": {
        "id": "gQ8Om-zfdO4G"
      },
      "execution_count": null,
      "outputs": []
    },
    {
      "cell_type": "code",
      "source": [
        "chain_parallel.get_graph().print_ascii()"
      ],
      "metadata": {
        "id": "g4JlEAzNdYJz"
      },
      "execution_count": null,
      "outputs": []
    },
    {
      "cell_type": "code",
      "source": [
        "%%time\n",
        "chain_books.invoke({'programming language':'Python'})"
      ],
      "metadata": {
        "id": "I5t2-mg6dlgG"
      },
      "execution_count": null,
      "outputs": []
    },
    {
      "cell_type": "code",
      "source": [
        "%%time\n",
        "chain_projects.invoke({'programming language':'Python'})"
      ],
      "metadata": {
        "id": "Vb7kefzKdx_Y"
      },
      "execution_count": null,
      "outputs": []
    },
    {
      "cell_type": "code",
      "source": [
        "%%time\n",
        "chain_parallel.invoke({'programming language':'Python'})"
      ],
      "metadata": {
        "id": "ThbMXZH1d61u"
      },
      "execution_count": null,
      "outputs": []
    },
    {
      "cell_type": "code",
      "source": [],
      "metadata": {
        "id": "S_3tFaZueAns"
      },
      "execution_count": null,
      "outputs": []
    }
  ]
}