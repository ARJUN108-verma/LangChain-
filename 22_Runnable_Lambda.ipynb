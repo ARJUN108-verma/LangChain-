{
  "nbformat": 4,
  "nbformat_minor": 0,
  "metadata": {
    "colab": {
      "private_outputs": true,
      "provenance": [],
      "authorship_tag": "ABX9TyMPzs6tY5wLiXYdeFm2LR1l",
      "include_colab_link": true
    },
    "kernelspec": {
      "name": "python3",
      "display_name": "Python 3"
    },
    "language_info": {
      "name": "python"
    }
  },
  "cells": [
    {
      "cell_type": "markdown",
      "metadata": {
        "id": "view-in-github",
        "colab_type": "text"
      },
      "source": [
        "<a href=\"https://colab.research.google.com/github/ARJUN108-verma/LangChain-/blob/main/22_Runnable_Lambda.ipynb\" target=\"_parent\"><img src=\"https://colab.research.google.com/assets/colab-badge.svg\" alt=\"Open In Colab\"/></a>"
      ]
    },
    {
      "cell_type": "markdown",
      "source": [
        "Runnable Lambda:-"
      ],
      "metadata": {
        "id": "rCbVYCfOnZLZ"
      }
    },
    {
      "cell_type": "markdown",
      "source": [
        "In LangChain, RunnableLambda (or simply using lambda functions with the runnable interface) allows you to create custom operations that can be integrated into your chains. These are particularly useful for data transformation, formatting, or any custom processing you need between steps."
      ],
      "metadata": {
        "id": "AB2RkvPvne7w"
      }
    },
    {
      "cell_type": "markdown",
      "source": [
        "Run the line of code below to check the version of langchain in the current environment.\n",
        "Substitute \"langchain\" with any other package name to check their version."
      ],
      "metadata": {
        "id": "zPAReOa0nyw4"
      }
    },
    {
      "cell_type": "code",
      "execution_count": null,
      "metadata": {
        "id": "_eycfJOxnPqE"
      },
      "outputs": [],
      "source": [
        "!pip show langchain"
      ]
    },
    {
      "cell_type": "code",
      "source": [
        "from langchain_core.runnables import RunnableLambda"
      ],
      "metadata": {
        "id": "w7WVz5s_oaM3"
      },
      "execution_count": null,
      "outputs": []
    },
    {
      "cell_type": "code",
      "source": [
        "find_sum = lambda x : sum(x)"
      ],
      "metadata": {
        "id": "GGUtxeQho6sK"
      },
      "execution_count": null,
      "outputs": []
    },
    {
      "cell_type": "code",
      "source": [
        "find_sum([1, 2, 3, 4, 5])"
      ],
      "metadata": {
        "id": "i7Ou5M9xpSpu"
      },
      "execution_count": null,
      "outputs": []
    },
    {
      "cell_type": "code",
      "source": [
        "find_square = lambda x : x**2"
      ],
      "metadata": {
        "id": "gchSrGqspYop"
      },
      "execution_count": null,
      "outputs": []
    },
    {
      "cell_type": "code",
      "source": [
        "find_square(9)"
      ],
      "metadata": {
        "id": "hC9wes5xpvgK"
      },
      "execution_count": null,
      "outputs": []
    },
    {
      "cell_type": "code",
      "source": [
        "runnable_sum = RunnableLambda(lambda x : sum(x))"
      ],
      "metadata": {
        "id": "2ca8lXimpxy1"
      },
      "execution_count": null,
      "outputs": []
    },
    {
      "cell_type": "code",
      "source": [
        "runnable_sum.invoke([1, 2, 3, 4, 5])"
      ],
      "metadata": {
        "id": "3R2nfZVEqB8s"
      },
      "execution_count": null,
      "outputs": []
    },
    {
      "cell_type": "code",
      "source": [
        "runnable_square = RunnableLambda(lambda x : x**2)"
      ],
      "metadata": {
        "id": "eA-VsjGFqUuf"
      },
      "execution_count": null,
      "outputs": []
    },
    {
      "cell_type": "code",
      "source": [
        "runnable_square.invoke(9)"
      ],
      "metadata": {
        "id": "6CVXSRIJqguD"
      },
      "execution_count": null,
      "outputs": []
    },
    {
      "cell_type": "code",
      "source": [
        "chain = runnable_sum | runnable_square"
      ],
      "metadata": {
        "id": "4mFoDUP-qi0k"
      },
      "execution_count": null,
      "outputs": []
    },
    {
      "cell_type": "code",
      "source": [
        "chain.invoke([1,2,5])"
      ],
      "metadata": {
        "id": "Hdq7vvoKqsrV"
      },
      "execution_count": null,
      "outputs": []
    },
    {
      "cell_type": "code",
      "source": [
        "!pip install grandalf"
      ],
      "metadata": {
        "id": "4LU1Yo8lrSRB"
      },
      "execution_count": null,
      "outputs": []
    },
    {
      "cell_type": "code",
      "source": [
        "chain.get_graph().print_ascii()"
      ],
      "metadata": {
        "id": "xYWzn5yuq1il"
      },
      "execution_count": null,
      "outputs": []
    },
    {
      "cell_type": "code",
      "source": [],
      "metadata": {
        "id": "MnuLS-92rO3X"
      },
      "execution_count": null,
      "outputs": []
    }
  ]
}