{
  "nbformat": 4,
  "nbformat_minor": 0,
  "metadata": {
    "colab": {
      "private_outputs": true,
      "provenance": [],
      "authorship_tag": "ABX9TyMrn817HTYUJa6PnDde9+l2",
      "include_colab_link": true
    },
    "kernelspec": {
      "name": "python3",
      "display_name": "Python 3"
    },
    "language_info": {
      "name": "python"
    }
  },
  "cells": [
    {
      "cell_type": "markdown",
      "metadata": {
        "id": "view-in-github",
        "colab_type": "text"
      },
      "source": [
        "<a href=\"https://colab.research.google.com/github/ARJUN108-verma/LangChain-/blob/main/29_Indexing_Creating_a_chroma_Vectorstore.ipynb\" target=\"_parent\"><img src=\"https://colab.research.google.com/assets/colab-badge.svg\" alt=\"Open In Colab\"/></a>"
      ]
    },
    {
      "cell_type": "markdown",
      "source": [
        "Indexing:- Creatng a chroma Vectorstore:-"
      ],
      "metadata": {
        "id": "LM9RB-8Vkosx"
      }
    },
    {
      "cell_type": "markdown",
      "source": [
        "Run the line of code below to check the version of langchain in the current environment.Substitute \"langchain\" with any other package name to check their version."
      ],
      "metadata": {
        "id": "bEVeUbDZlDA5"
      }
    },
    {
      "cell_type": "code",
      "execution_count": null,
      "metadata": {
        "id": "tCMhdvxNkYxr"
      },
      "outputs": [],
      "source": [
        "!pip show langchain"
      ]
    },
    {
      "cell_type": "code",
      "source": [
        "%pip install dotenv"
      ],
      "metadata": {
        "id": "kPucAhkwleaw"
      },
      "execution_count": null,
      "outputs": []
    },
    {
      "cell_type": "code",
      "source": [
        "%load_ext dotenv"
      ],
      "metadata": {
        "id": "T9etgoDhlKPa"
      },
      "execution_count": null,
      "outputs": []
    },
    {
      "cell_type": "code",
      "source": [
        "%dotenv"
      ],
      "metadata": {
        "id": "FmZUaGVxlRU7"
      },
      "execution_count": null,
      "outputs": []
    },
    {
      "cell_type": "code",
      "source": [
        "!pip install langchain_community"
      ],
      "metadata": {
        "id": "-5ucZTAal7UI"
      },
      "execution_count": null,
      "outputs": []
    },
    {
      "cell_type": "code",
      "source": [
        "from langchain_community.document_loaders import Docx2txtLoader"
      ],
      "metadata": {
        "id": "zYRooaVTlUB6"
      },
      "execution_count": null,
      "outputs": []
    },
    {
      "cell_type": "code",
      "source": [
        "from langchain_text_splitters.markdown import MarkdownHeaderTextSplitter"
      ],
      "metadata": {
        "id": "GRgvS1q3l5M7"
      },
      "execution_count": null,
      "outputs": []
    },
    {
      "cell_type": "code",
      "source": [
        "from langchain_text_splitters.character import CharacterTextSplitter"
      ],
      "metadata": {
        "id": "ygNWxjckmQeD"
      },
      "execution_count": null,
      "outputs": []
    },
    {
      "cell_type": "code",
      "source": [
        "!pip install langchain_openai"
      ],
      "metadata": {
        "id": "V9pbuAMtnAqJ"
      },
      "execution_count": null,
      "outputs": []
    },
    {
      "cell_type": "code",
      "source": [
        "from langchain_openai.embeddings import OpenAIEmbeddings"
      ],
      "metadata": {
        "id": "C-Jknqj4mcGC"
      },
      "execution_count": null,
      "outputs": []
    },
    {
      "cell_type": "code",
      "source": [
        "from langchain_community.vectorstores import chroma"
      ],
      "metadata": {
        "id": "CNbv7acGm-IM"
      },
      "execution_count": null,
      "outputs": []
    },
    {
      "cell_type": "code",
      "source": [
        "loader_docx = Docx2txtLoader(\"/content/Introduction_to_Data_and_Data_Science_2.docx\")"
      ],
      "metadata": {
        "id": "AtsQUaBwncPX"
      },
      "execution_count": null,
      "outputs": []
    },
    {
      "cell_type": "code",
      "source": [
        "!pip install docx2txt"
      ],
      "metadata": {
        "id": "RNULkdh-n2aZ"
      },
      "execution_count": null,
      "outputs": []
    },
    {
      "cell_type": "code",
      "source": [
        "pages = loader_docx.load()"
      ],
      "metadata": {
        "id": "hdZK3SxBnvPU"
      },
      "execution_count": null,
      "outputs": []
    },
    {
      "cell_type": "code",
      "source": [
        "md_splitter = MarkdownHeaderTextSplitter(\n",
        "    headers_to_split_on = [(\"#\", \"Course Title\"),\n",
        "                           (\"##\", \"Lecture Title\")]\n",
        ")"
      ],
      "metadata": {
        "id": "Qzkd1SdSnzx2"
      },
      "execution_count": null,
      "outputs": []
    },
    {
      "cell_type": "code",
      "source": [
        "pages_md_split = md_splitter.split_text(pages[0].page_content)"
      ],
      "metadata": {
        "id": "INWpKKiqoBLr"
      },
      "execution_count": null,
      "outputs": []
    },
    {
      "cell_type": "code",
      "source": [
        "for i in range(len(pages_md_split)):\n",
        "    pages_md_split[i].page_content = ' '.join(pages_md_split[i].page_content.split())"
      ],
      "metadata": {
        "id": "YwcQXM1poIQG"
      },
      "execution_count": null,
      "outputs": []
    },
    {
      "cell_type": "code",
      "source": [
        "char_splitter = CharacterTextSplitter(\n",
        "    separator = \".\",\n",
        "    chunk_size = 500,\n",
        "    chunk_overlap  = 50\n",
        ")"
      ],
      "metadata": {
        "id": "vf1bl-XRoMGJ"
      },
      "execution_count": null,
      "outputs": []
    },
    {
      "cell_type": "code",
      "source": [
        "pages_char_split = char_splitter.split_documents(pages_md_split)\n"
      ],
      "metadata": {
        "id": "JfJMwwmuoQCL"
      },
      "execution_count": null,
      "outputs": []
    },
    {
      "cell_type": "code",
      "source": [
        "embedding = OpenAIEmbeddings(model='text-embedding-ada-002')"
      ],
      "metadata": {
        "id": "Xp5m-AldoVsg"
      },
      "execution_count": null,
      "outputs": []
    },
    {
      "cell_type": "code",
      "source": [
        "len(pages_char_split)"
      ],
      "metadata": {
        "id": "7YGd7thIocnj"
      },
      "execution_count": null,
      "outputs": []
    },
    {
      "cell_type": "code",
      "source": [
        "vectorstore = chroma.from_documents(documents = pages_char_split,\n",
        "                                    embedding = embedding,\n",
        "                                    persist_directory = \"./intro-to-ds-lectures\")"
      ],
      "metadata": {
        "id": "HS34bNFGogdj"
      },
      "execution_count": null,
      "outputs": []
    },
    {
      "cell_type": "code",
      "source": [
        "vectorstore_from_directory = Chroma(persist_directory = \"./intro-to-ds-lectures\",\n",
        "                                    embedding_function = embedding)"
      ],
      "metadata": {
        "id": "VzBILK-rojl0"
      },
      "execution_count": null,
      "outputs": []
    },
    {
      "cell_type": "code",
      "source": [],
      "metadata": {
        "id": "1Oa1f-UDoxEM"
      },
      "execution_count": null,
      "outputs": []
    }
  ]
}