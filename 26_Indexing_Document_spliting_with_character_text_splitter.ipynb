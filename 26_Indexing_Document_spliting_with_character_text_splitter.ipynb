{
  "nbformat": 4,
  "nbformat_minor": 0,
  "metadata": {
    "colab": {
      "private_outputs": true,
      "provenance": [],
      "authorship_tag": "ABX9TyM0ekPAuVjcNlmsHAd6cotz",
      "include_colab_link": true
    },
    "kernelspec": {
      "name": "python3",
      "display_name": "Python 3"
    },
    "language_info": {
      "name": "python"
    }
  },
  "cells": [
    {
      "cell_type": "markdown",
      "metadata": {
        "id": "view-in-github",
        "colab_type": "text"
      },
      "source": [
        "<a href=\"https://colab.research.google.com/github/ARJUN108-verma/LangChain-/blob/main/26_Indexing_Document_spliting_with_character_text_splitter.ipynb\" target=\"_parent\"><img src=\"https://colab.research.google.com/assets/colab-badge.svg\" alt=\"Open In Colab\"/></a>"
      ]
    },
    {
      "cell_type": "markdown",
      "source": [
        "Indexing:-Documnet Splitting with character text splitter:-"
      ],
      "metadata": {
        "id": "CSP4RqHIUlgl"
      }
    },
    {
      "cell_type": "markdown",
      "source": [
        "Run the line of code below to check the version of langchain in the current environment."
      ],
      "metadata": {
        "id": "vABAVU8EU0Hy"
      }
    },
    {
      "cell_type": "markdown",
      "source": [
        "Substitute \"langchain\" with any other package name to check their version."
      ],
      "metadata": {
        "id": "y6jTAfE1U5KJ"
      }
    },
    {
      "cell_type": "code",
      "execution_count": null,
      "metadata": {
        "id": "_ptdiGa9UOWw"
      },
      "outputs": [],
      "source": [
        "!pip show langchain"
      ]
    },
    {
      "cell_type": "code",
      "source": [
        "!pip install langchain_community"
      ],
      "metadata": {
        "id": "ykp70wbrVjqU"
      },
      "execution_count": null,
      "outputs": []
    },
    {
      "cell_type": "code",
      "source": [
        "from langchain_community.document_loaders import Docx2txtLoader"
      ],
      "metadata": {
        "id": "7HL_UOqwVDke"
      },
      "execution_count": null,
      "outputs": []
    },
    {
      "cell_type": "code",
      "source": [
        "from langchain_text_splitters.character import CharacterTextSplitter"
      ],
      "metadata": {
        "id": "CNo2x-UPVgqf"
      },
      "execution_count": null,
      "outputs": []
    },
    {
      "cell_type": "code",
      "source": [
        "loader = Docx2txtLoader(\"/content/Introduction_to_Data_and_Data_Science.docx\")"
      ],
      "metadata": {
        "id": "D36xjwAxV4uR"
      },
      "execution_count": null,
      "outputs": []
    },
    {
      "cell_type": "code",
      "source": [
        "!pip install docx2txt"
      ],
      "metadata": {
        "id": "j0e8nRJ4WSKB"
      },
      "execution_count": null,
      "outputs": []
    },
    {
      "cell_type": "code",
      "source": [
        "pages = loader.load()"
      ],
      "metadata": {
        "id": "soebC9orWFsD"
      },
      "execution_count": null,
      "outputs": []
    },
    {
      "cell_type": "code",
      "source": [
        "for i in range(len(pages)):\n",
        "  pages[i].page_content = ' '.join(pages[i].page_content.split())"
      ],
      "metadata": {
        "id": "zs9F8QpeWOO4"
      },
      "execution_count": null,
      "outputs": []
    },
    {
      "cell_type": "code",
      "source": [
        "len(pages[0].page_content)"
      ],
      "metadata": {
        "id": "bT6_URieWwMi"
      },
      "execution_count": null,
      "outputs": []
    },
    {
      "cell_type": "code",
      "source": [
        "char_splitter = CharacterTextSplitter(separator= \" . \",\n",
        "                                      chunk_size = 500,\n",
        "                                      chunk_overlap = 50)"
      ],
      "metadata": {
        "id": "LwV71RbKW4Bb"
      },
      "execution_count": null,
      "outputs": []
    },
    {
      "cell_type": "code",
      "source": [
        "page_char_split = char_splitter.split_documents(pages)"
      ],
      "metadata": {
        "id": "SV3LIjhkYD6C"
      },
      "execution_count": null,
      "outputs": []
    },
    {
      "cell_type": "code",
      "source": [
        "len(page_char_split)"
      ],
      "metadata": {
        "id": "BQuCHQ5EYb7T"
      },
      "execution_count": null,
      "outputs": []
    },
    {
      "cell_type": "code",
      "source": [
        "page_char_split[0].page_content"
      ],
      "metadata": {
        "id": "QiLLvJWDYjvT"
      },
      "execution_count": null,
      "outputs": []
    },
    {
      "cell_type": "code",
      "source": [
        "8259/500"
      ],
      "metadata": {
        "id": "VbemqzBtYrrn"
      },
      "execution_count": null,
      "outputs": []
    },
    {
      "cell_type": "code",
      "source": [
        "0.518*500"
      ],
      "metadata": {
        "id": "fgNaDSrWYwTU"
      },
      "execution_count": null,
      "outputs": []
    },
    {
      "cell_type": "code",
      "source": [
        "len(page_char_split[0].page_content)"
      ],
      "metadata": {
        "id": "lrAFjinEY0Se"
      },
      "execution_count": null,
      "outputs": []
    },
    {
      "cell_type": "code",
      "source": [],
      "metadata": {
        "id": "Y0-87ZniY7re"
      },
      "execution_count": null,
      "outputs": []
    }
  ]
}