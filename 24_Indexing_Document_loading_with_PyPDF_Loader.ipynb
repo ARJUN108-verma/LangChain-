{
  "nbformat": 4,
  "nbformat_minor": 0,
  "metadata": {
    "colab": {
      "private_outputs": true,
      "provenance": [],
      "authorship_tag": "ABX9TyNAL+CeN2cXRMESP+lisATR",
      "include_colab_link": true
    },
    "kernelspec": {
      "name": "python3",
      "display_name": "Python 3"
    },
    "language_info": {
      "name": "python"
    }
  },
  "cells": [
    {
      "cell_type": "markdown",
      "metadata": {
        "id": "view-in-github",
        "colab_type": "text"
      },
      "source": [
        "<a href=\"https://colab.research.google.com/github/ARJUN108-verma/LangChain-/blob/main/24_Indexing_Document_loading_with_PyPDF_Loader.ipynb\" target=\"_parent\"><img src=\"https://colab.research.google.com/assets/colab-badge.svg\" alt=\"Open In Colab\"/></a>"
      ]
    },
    {
      "cell_type": "markdown",
      "source": [
        "Indexing:- Document loading with PyPDF Loader:-"
      ],
      "metadata": {
        "id": "6qF2dugaEWu1"
      }
    },
    {
      "cell_type": "code",
      "execution_count": null,
      "metadata": {
        "id": "jo9OHioNDtU2"
      },
      "outputs": [],
      "source": [
        "!pip show langchain"
      ]
    },
    {
      "cell_type": "code",
      "source": [
        "!pip install langchain_community"
      ],
      "metadata": {
        "id": "Pej7qwjCFKW9"
      },
      "execution_count": null,
      "outputs": []
    },
    {
      "cell_type": "code",
      "source": [
        "from langchain_community.document_loaders import PyPDFLoader"
      ],
      "metadata": {
        "id": "ATZAW6NdEyJO"
      },
      "execution_count": null,
      "outputs": []
    },
    {
      "cell_type": "code",
      "source": [
        "import copy"
      ],
      "metadata": {
        "id": "E6SQN0ytFHGw"
      },
      "execution_count": null,
      "outputs": []
    },
    {
      "cell_type": "code",
      "source": [
        "loader_pdf = PyPDFLoader(\"/content/Introduction_to_Data_and_Data_Science.pdf\")"
      ],
      "metadata": {
        "id": "UaCXaW3ZFng1"
      },
      "execution_count": null,
      "outputs": []
    },
    {
      "cell_type": "code",
      "source": [
        "!pip install pypdf"
      ],
      "metadata": {
        "id": "s5KyfZyjGZXY"
      },
      "execution_count": null,
      "outputs": []
    },
    {
      "cell_type": "code",
      "source": [
        "pages_pdf = loader_pdf.load()"
      ],
      "metadata": {
        "id": "81dehFnGGC7F"
      },
      "execution_count": null,
      "outputs": []
    },
    {
      "cell_type": "code",
      "source": [
        "pages_pdf"
      ],
      "metadata": {
        "id": "P5pDGWJaGWpN"
      },
      "execution_count": null,
      "outputs": []
    },
    {
      "cell_type": "code",
      "source": [
        "pages_pdf_cut = copy.deepcopy(pages_pdf)"
      ],
      "metadata": {
        "id": "VOndX2yWGyWV"
      },
      "execution_count": null,
      "outputs": []
    },
    {
      "cell_type": "code",
      "source": [
        "' '.join(pages_pdf_cut[0].page_content.split())"
      ],
      "metadata": {
        "id": "zW20zi-lHEju"
      },
      "execution_count": null,
      "outputs": []
    },
    {
      "cell_type": "code",
      "source": [
        "for  i in pages_pdf_cut:\n",
        "  i.page_content = ' '.join(i.page_content.split())"
      ],
      "metadata": {
        "id": "SVqzD_0mHpCO"
      },
      "execution_count": null,
      "outputs": []
    },
    {
      "cell_type": "code",
      "source": [
        "pages_pdf_cut"
      ],
      "metadata": {
        "id": "yjygzBbhIL12"
      },
      "execution_count": null,
      "outputs": []
    },
    {
      "cell_type": "code",
      "source": [
        "pages_pdf[0].page_content, pages_pdf_cut[0].page_content"
      ],
      "metadata": {
        "id": "GRnCgDgkITCc"
      },
      "execution_count": null,
      "outputs": []
    },
    {
      "cell_type": "code",
      "source": [],
      "metadata": {
        "id": "FG2Hh1A_IZtU"
      },
      "execution_count": null,
      "outputs": []
    }
  ]
}