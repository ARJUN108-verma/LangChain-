{
  "nbformat": 4,
  "nbformat_minor": 0,
  "metadata": {
    "colab": {
      "private_outputs": true,
      "provenance": [],
      "authorship_tag": "ABX9TyMt3ejPysTVCR4bqHZGMM4B",
      "include_colab_link": true
    },
    "kernelspec": {
      "name": "python3",
      "display_name": "Python 3"
    },
    "language_info": {
      "name": "python"
    }
  },
  "cells": [
    {
      "cell_type": "markdown",
      "metadata": {
        "id": "view-in-github",
        "colab_type": "text"
      },
      "source": [
        "<a href=\"https://colab.research.google.com/github/ARJUN108-verma/LangChain-/blob/main/30_Indexing_Inspecting_and_managing_documents_in_a_Vectorstore.ipynb\" target=\"_parent\"><img src=\"https://colab.research.google.com/assets/colab-badge.svg\" alt=\"Open In Colab\"/></a>"
      ]
    },
    {
      "cell_type": "markdown",
      "source": [
        "# Indexing:- Inspecting and managing documnets in a Vectorstore:-"
      ],
      "metadata": {
        "id": "LM9RB-8Vkosx"
      }
    },
    {
      "cell_type": "markdown",
      "source": [
        "Run the line of code below to check the version of langchain in the current environment.Substitute \"langchain\" with any other package name to check their version."
      ],
      "metadata": {
        "id": "bEVeUbDZlDA5"
      }
    },
    {
      "cell_type": "code",
      "execution_count": null,
      "metadata": {
        "id": "tCMhdvxNkYxr"
      },
      "outputs": [],
      "source": [
        "!pip show langchain"
      ]
    },
    {
      "cell_type": "code",
      "source": [
        "%pip install dotenv"
      ],
      "metadata": {
        "id": "kPucAhkwleaw"
      },
      "execution_count": null,
      "outputs": []
    },
    {
      "cell_type": "code",
      "source": [
        "%load_ext dotenv"
      ],
      "metadata": {
        "id": "T9etgoDhlKPa"
      },
      "execution_count": null,
      "outputs": []
    },
    {
      "cell_type": "code",
      "source": [
        "%dotenv"
      ],
      "metadata": {
        "id": "FmZUaGVxlRU7"
      },
      "execution_count": null,
      "outputs": []
    },
    {
      "cell_type": "code",
      "source": [
        "!pip install langchain_community"
      ],
      "metadata": {
        "id": "-5ucZTAal7UI"
      },
      "execution_count": null,
      "outputs": []
    },
    {
      "cell_type": "code",
      "source": [
        "from langchain_community.document_loaders import Docx2txtLoader"
      ],
      "metadata": {
        "id": "zYRooaVTlUB6"
      },
      "execution_count": null,
      "outputs": []
    },
    {
      "cell_type": "code",
      "source": [
        "from langchain_text_splitters.markdown import MarkdownHeaderTextSplitter"
      ],
      "metadata": {
        "id": "GRgvS1q3l5M7"
      },
      "execution_count": null,
      "outputs": []
    },
    {
      "cell_type": "code",
      "source": [
        "from langchain_text_splitters.character import CharacterTextSplitter"
      ],
      "metadata": {
        "id": "ygNWxjckmQeD"
      },
      "execution_count": null,
      "outputs": []
    },
    {
      "cell_type": "code",
      "source": [
        "!pip install langchain_openai"
      ],
      "metadata": {
        "id": "V9pbuAMtnAqJ"
      },
      "execution_count": null,
      "outputs": []
    },
    {
      "cell_type": "code",
      "source": [
        "from langchain_openai.embeddings import OpenAIEmbeddings"
      ],
      "metadata": {
        "id": "C-Jknqj4mcGC"
      },
      "execution_count": null,
      "outputs": []
    },
    {
      "cell_type": "code",
      "source": [
        "from langchain_community.vectorstores import Chroma"
      ],
      "metadata": {
        "id": "CNbv7acGm-IM"
      },
      "execution_count": null,
      "outputs": []
    },
    {
      "cell_type": "code",
      "source": [
        "from langchain_core.documents import Document"
      ],
      "metadata": {
        "id": "M8njqE7LthjW"
      },
      "execution_count": null,
      "outputs": []
    },
    {
      "cell_type": "code",
      "source": [
        "embedding = OpenAIEmbeddings(model='text-embedding-ada-002')"
      ],
      "metadata": {
        "id": "1Oa1f-UDoxEM"
      },
      "execution_count": null,
      "outputs": []
    },
    {
      "cell_type": "code",
      "source": [
        "vectorstore_from_directory = Chroma(persist_directory = \"./intro-to-ds-lectures\",\n",
        "                                    embedding_function = embedding)"
      ],
      "metadata": {
        "id": "N1Oe7wqDtkaM"
      },
      "execution_count": null,
      "outputs": []
    },
    {
      "cell_type": "code",
      "source": [
        "vectorstore_from_directory.get(ids = \"00829d7d-4ad7-4f83-93c2-1c606f3c14bf\",\n",
        "                               include = [\"embeddings\"])"
      ],
      "metadata": {
        "id": "ZpUWcW_etoIk"
      },
      "execution_count": null,
      "outputs": []
    },
    {
      "cell_type": "code",
      "source": [
        "added_document = Document(page_content='Alright! So… Let’s discuss the not-so-obvious differences between the terms analysis and analytics. Due to the similarity of the words, some people believe they share the same meaning, and thus use them interchangeably. Technically, this isn’t correct. There is, in fact, a distinct difference between the two. And the reason for one often being used instead of the other is the lack of a transparent understanding of both. So, let’s clear this up, shall we? First, we will start with analysis',\n",
        "                          metadata={'Course Title': 'Introduction to Data and Data Science',\n",
        "                                    'Lecture Title': 'Analysis vs Analytics'})"
      ],
      "metadata": {
        "id": "71iUMUoOuOKL"
      },
      "execution_count": null,
      "outputs": []
    },
    {
      "cell_type": "code",
      "source": [
        "vectorstore_from_directory.add_documents([added_document])"
      ],
      "metadata": {
        "id": "x6u-N3DDuUyE"
      },
      "execution_count": null,
      "outputs": []
    },
    {
      "cell_type": "code",
      "source": [
        "vectorstore_from_directory.get(\"55409552-1943-4892-949a-3b475ff9c840\")"
      ],
      "metadata": {
        "id": "oDyI_1Ezuae_"
      },
      "execution_count": null,
      "outputs": []
    },
    {
      "cell_type": "code",
      "source": [
        "updated_document = Document(page_content='Great! We hope we gave you a good idea about the level of applicability of the most frequently used programming and software tools in the field of data science. Thank you for watching!',\n",
        "                            metadata={'Course Title': 'Introduction to Data and Data Science',\n",
        "                                     'Lecture Title': 'Programming Languages & Software Employed in Data Science - All the Tools You Need'})"
      ],
      "metadata": {
        "id": "DL8N0ALaujmG"
      },
      "execution_count": null,
      "outputs": []
    },
    {
      "cell_type": "code",
      "source": [
        "vectorstore_from_directory.update_document(document_id = \"55409552-1943-4892-949a-3b475ff9c840\",\n",
        "                                           document = updated_document)"
      ],
      "metadata": {
        "id": "x_sb5WFjukrF"
      },
      "execution_count": null,
      "outputs": []
    },
    {
      "cell_type": "code",
      "source": [
        "vectorstore_from_directory.get(\"55409552-1943-4892-949a-3b475ff9c840\")"
      ],
      "metadata": {
        "id": "NAn9JAlfutjF"
      },
      "execution_count": null,
      "outputs": []
    },
    {
      "cell_type": "code",
      "source": [
        "vectorstore_from_directory.delete(\"55409552-1943-4892-949a-3b475ff9c840\")"
      ],
      "metadata": {
        "id": "fsTzw_S6ux0M"
      },
      "execution_count": null,
      "outputs": []
    },
    {
      "cell_type": "code",
      "source": [
        "vectorstore_from_directory.get(\"55409552-1943-4892-949a-3b475ff9c840\")"
      ],
      "metadata": {
        "id": "LuBAhfhxu1I0"
      },
      "execution_count": null,
      "outputs": []
    }
  ]
}