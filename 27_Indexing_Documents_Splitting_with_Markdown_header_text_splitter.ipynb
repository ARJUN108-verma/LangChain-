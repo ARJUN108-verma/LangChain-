{
  "nbformat": 4,
  "nbformat_minor": 0,
  "metadata": {
    "colab": {
      "private_outputs": true,
      "provenance": [],
      "authorship_tag": "ABX9TyNHDVPEqYYddjC0B7D9oWj2",
      "include_colab_link": true
    },
    "kernelspec": {
      "name": "python3",
      "display_name": "Python 3"
    },
    "language_info": {
      "name": "python"
    }
  },
  "cells": [
    {
      "cell_type": "markdown",
      "metadata": {
        "id": "view-in-github",
        "colab_type": "text"
      },
      "source": [
        "<a href=\"https://colab.research.google.com/github/ARJUN108-verma/LangChain-/blob/main/27_Indexing_Documents_Splitting_with_Markdown_header_text_splitter.ipynb\" target=\"_parent\"><img src=\"https://colab.research.google.com/assets/colab-badge.svg\" alt=\"Open In Colab\"/></a>"
      ]
    },
    {
      "cell_type": "markdown",
      "source": [
        "Indexing:-Documents_splitting_with_Markdown_header_text_splitter:-"
      ],
      "metadata": {
        "id": "peVFVe37aThz"
      }
    },
    {
      "cell_type": "markdown",
      "source": [
        "Run the line of code below to check the version of langchain in the current environment.\n",
        " Substitute \"langchain\" with any other package name to check their version."
      ],
      "metadata": {
        "id": "zoKOiCOxaoC5"
      }
    },
    {
      "cell_type": "code",
      "source": [
        "!pip install langchain_community"
      ],
      "metadata": {
        "id": "NWKDQL_qa8qq"
      },
      "execution_count": null,
      "outputs": []
    },
    {
      "cell_type": "code",
      "source": [
        "from langchain_community.document_loaders import Docx2txtLoader"
      ],
      "metadata": {
        "id": "yQcgin6fbTr5"
      },
      "execution_count": null,
      "outputs": []
    },
    {
      "cell_type": "code",
      "source": [
        "from langchain_text_splitters.markdown import MarkdownHeaderTextSplitter"
      ],
      "metadata": {
        "id": "PhfLJdnGa36d"
      },
      "execution_count": null,
      "outputs": []
    },
    {
      "cell_type": "code",
      "source": [
        "!pip install docx2txt"
      ],
      "metadata": {
        "id": "qbVNVFm9blOT"
      },
      "execution_count": null,
      "outputs": []
    },
    {
      "cell_type": "code",
      "source": [
        "loader_docx = Docx2txtLoader(\"/content/Introduction_to_Data_and_Data_Science_2.docx\")\n",
        "pages = loader_docx.load()"
      ],
      "metadata": {
        "id": "gifUQAs-bRjL"
      },
      "execution_count": null,
      "outputs": []
    },
    {
      "cell_type": "code",
      "source": [
        "pages"
      ],
      "metadata": {
        "id": "n7saYByQbbfb"
      },
      "execution_count": null,
      "outputs": []
    },
    {
      "cell_type": "code",
      "source": [
        "md_splitter = MarkdownHeaderTextSplitter(headers_to_split_on = [(\"#\", \"Course Title\"),\n",
        "                                                                (\"##\", \"Lecture Title\")])"
      ],
      "metadata": {
        "id": "fUpwTK__bs24"
      },
      "execution_count": null,
      "outputs": []
    },
    {
      "cell_type": "code",
      "source": [
        "pages_md_split = md_splitter.split_text(pages[0].page_content)"
      ],
      "metadata": {
        "id": "UhmaFXFBby5C"
      },
      "execution_count": null,
      "outputs": []
    },
    {
      "cell_type": "code",
      "source": [
        "pages_md_split"
      ],
      "metadata": {
        "id": "XlAtVda-b2nG"
      },
      "execution_count": null,
      "outputs": []
    },
    {
      "cell_type": "code",
      "source": [],
      "metadata": {
        "id": "V29rXA4Cb6UA"
      },
      "execution_count": null,
      "outputs": []
    }
  ]
}