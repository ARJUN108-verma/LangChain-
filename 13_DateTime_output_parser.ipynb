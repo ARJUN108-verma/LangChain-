{
  "nbformat": 4,
  "nbformat_minor": 0,
  "metadata": {
    "colab": {
      "private_outputs": true,
      "provenance": [],
      "authorship_tag": "ABX9TyPp8+LkmjwHT7maL117dpX3",
      "include_colab_link": true
    },
    "kernelspec": {
      "name": "python3",
      "display_name": "Python 3"
    },
    "language_info": {
      "name": "python"
    }
  },
  "cells": [
    {
      "cell_type": "markdown",
      "metadata": {
        "id": "view-in-github",
        "colab_type": "text"
      },
      "source": [
        "<a href=\"https://colab.research.google.com/github/ARJUN108-verma/LangChain-/blob/main/13_DateTime_output_parser.ipynb\" target=\"_parent\"><img src=\"https://colab.research.google.com/assets/colab-badge.svg\" alt=\"Open In Colab\"/></a>"
      ]
    },
    {
      "cell_type": "markdown",
      "source": [
        "DateTime Output Parser:-"
      ],
      "metadata": {
        "id": "kgwDqGdRbvEg"
      }
    },
    {
      "cell_type": "code",
      "execution_count": null,
      "metadata": {
        "id": "teKhPV6YblJ4"
      },
      "outputs": [],
      "source": [
        "pip show langchain"
      ]
    },
    {
      "cell_type": "code",
      "source": [
        "!pip install dotenv"
      ],
      "metadata": {
        "id": "XtHhH7tzcJmm"
      },
      "execution_count": null,
      "outputs": []
    },
    {
      "cell_type": "code",
      "source": [
        "%load_ext dotenv\n",
        "%dotenv"
      ],
      "metadata": {
        "id": "3xtdr5SNcB21"
      },
      "execution_count": null,
      "outputs": []
    },
    {
      "cell_type": "code",
      "source": [
        "!pip install langchain_openai"
      ],
      "metadata": {
        "id": "GCOOWGGlcUaG"
      },
      "execution_count": null,
      "outputs": []
    },
    {
      "cell_type": "code",
      "source": [
        "from langchain_openai.chat_models import ChatOpenAI\n",
        "from langchain_core.messages import HumanMessage\n",
        "from langchain.output_parsers import DatetimeOutputParser"
      ],
      "metadata": {
        "id": "aYjGOoU2cHOW"
      },
      "execution_count": null,
      "outputs": []
    },
    {
      "cell_type": "code",
      "source": [
        "chat = ChatOpenAI(api_key= \"Enter Openai API\",\n",
        "                  model_name = 'gpt-4o',\n",
        "                  model_kwargs = {'seed':365},\n",
        "                  temperature = 0,\n",
        "                  max_tokens = 100)"
      ],
      "metadata": {
        "id": "sC0l4k5scSZF"
      },
      "execution_count": null,
      "outputs": []
    },
    {
      "cell_type": "code",
      "source": [
        "message_h = HumanMessage(content = f'''When was the Danish poet Piet Hein born?\n",
        "{DatetimeOutputParser().get_format_instructions()}\n",
        "''')"
      ],
      "metadata": {
        "id": "6JJ4bUWmcfXa"
      },
      "execution_count": null,
      "outputs": []
    },
    {
      "cell_type": "code",
      "source": [
        "print(message_h.content)"
      ],
      "metadata": {
        "id": "YZTibdSrczVq"
      },
      "execution_count": null,
      "outputs": []
    },
    {
      "cell_type": "code",
      "source": [
        "response = chat.invoke([message_h])\n",
        "print(response.content)"
      ],
      "metadata": {
        "id": "MxoR7DuYc8XZ"
      },
      "execution_count": null,
      "outputs": []
    },
    {
      "cell_type": "code",
      "source": [
        "date_output_parser = DatetimeOutputParser()"
      ],
      "metadata": {
        "id": "i9TrrQlNdADP"
      },
      "execution_count": null,
      "outputs": []
    },
    {
      "cell_type": "code",
      "source": [
        "response_parsed = date_output_parser.invoke(response)"
      ],
      "metadata": {
        "id": "aM_rcNN7dDgy"
      },
      "execution_count": null,
      "outputs": []
    },
    {
      "cell_type": "code",
      "source": [
        "response_parsed"
      ],
      "metadata": {
        "id": "Cb-x8czudI4L"
      },
      "execution_count": null,
      "outputs": []
    },
    {
      "cell_type": "code",
      "source": [
        "print(date_output_parser.get_format_instructions())"
      ],
      "metadata": {
        "id": "PQVmovFtdLlz"
      },
      "execution_count": null,
      "outputs": []
    },
    {
      "cell_type": "code",
      "source": [],
      "metadata": {
        "id": "b1lBA3RTdREk"
      },
      "execution_count": null,
      "outputs": []
    }
  ]
}