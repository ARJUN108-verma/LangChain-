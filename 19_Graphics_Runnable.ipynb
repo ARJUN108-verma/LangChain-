{
  "nbformat": 4,
  "nbformat_minor": 0,
  "metadata": {
    "colab": {
      "private_outputs": true,
      "provenance": [],
      "authorship_tag": "ABX9TyOSYVzKEStyQm6vaI3tm/gh",
      "include_colab_link": true
    },
    "kernelspec": {
      "name": "python3",
      "display_name": "Python 3"
    },
    "language_info": {
      "name": "python"
    }
  },
  "cells": [
    {
      "cell_type": "markdown",
      "metadata": {
        "id": "view-in-github",
        "colab_type": "text"
      },
      "source": [
        "<a href=\"https://colab.research.google.com/github/ARJUN108-verma/LangChain-/blob/main/19_Graphics_Runnable.ipynb\" target=\"_parent\"><img src=\"https://colab.research.google.com/assets/colab-badge.svg\" alt=\"Open In Colab\"/></a>"
      ]
    },
    {
      "cell_type": "markdown",
      "source": [
        "Graphics Runnable:-"
      ],
      "metadata": {
        "id": "rg_OrTaMirDy"
      }
    },
    {
      "cell_type": "code",
      "execution_count": null,
      "metadata": {
        "id": "wPCuy0q9iiM3"
      },
      "outputs": [],
      "source": [
        "pip show langchain"
      ]
    },
    {
      "cell_type": "code",
      "source": [
        "!pip install dotenv"
      ],
      "metadata": {
        "id": "yhxKV4v9jACi"
      },
      "execution_count": null,
      "outputs": []
    },
    {
      "cell_type": "code",
      "source": [
        "%load_ext dotenv"
      ],
      "metadata": {
        "id": "J8WVoyuYi3NE"
      },
      "execution_count": null,
      "outputs": []
    },
    {
      "cell_type": "code",
      "source": [
        "%dotenv"
      ],
      "metadata": {
        "id": "3sGJSaXNi9Fo"
      },
      "execution_count": null,
      "outputs": []
    },
    {
      "cell_type": "code",
      "source": [
        "from langchain_core.prompts import ChatPromptTemplate"
      ],
      "metadata": {
        "id": "ioD3kxJQjEPD"
      },
      "execution_count": null,
      "outputs": []
    },
    {
      "cell_type": "code",
      "source": [
        "!pip install langchain_openai"
      ],
      "metadata": {
        "id": "mIb8F9WSjeqc"
      },
      "execution_count": null,
      "outputs": []
    },
    {
      "cell_type": "code",
      "source": [
        "from langchain_openai import ChatOpenAI"
      ],
      "metadata": {
        "id": "Sj4VBGZUjR-L"
      },
      "execution_count": null,
      "outputs": []
    },
    {
      "cell_type": "code",
      "source": [
        "from langchain_core.output_parsers import StrOutputParser"
      ],
      "metadata": {
        "id": "x818hATeAf-a"
      },
      "execution_count": null,
      "outputs": []
    },
    {
      "cell_type": "code",
      "source": [
        "from langchain_core.runnables import RunnablePassthrough"
      ],
      "metadata": {
        "id": "HTR-zngDApaS"
      },
      "execution_count": null,
      "outputs": []
    },
    {
      "cell_type": "code",
      "source": [
        "chat_template_tools = ChatPromptTemplate.from_template('''\n",
        "What are the five most important tools a {job title} needs?\n",
        "Answer only by listing the tools.\n",
        "''')"
      ],
      "metadata": {
        "id": "BaB0tuCjBYH_"
      },
      "execution_count": null,
      "outputs": []
    },
    {
      "cell_type": "code",
      "source": [
        "chat_template_strategy = ChatPromptTemplate.from_template('''\n",
        "Considering the tools provided, develop a strategy for effectively learning and mastering them:\n",
        "{tools}\n",
        "''')"
      ],
      "metadata": {
        "id": "lmYDgYeNB31P"
      },
      "execution_count": null,
      "outputs": []
    },
    {
      "cell_type": "code",
      "source": [
        "chat_template = ChatPromptTemplate.from_messages([\n",
        "    ('human',\n",
        "     \"I've recently adopted a {pet} which is a {breed}. Could you suggest several training tips?\")])"
      ],
      "metadata": {
        "id": "JbhTsj7yjb5P"
      },
      "execution_count": null,
      "outputs": []
    },
    {
      "cell_type": "code",
      "source": [
        "chat = ChatOpenAI(api_key = \"Enter openAI API\",\n",
        "                  model_name = 'gpt-4o',\n",
        "                  model_kwargs= {'seed':365},\n",
        "                  temperature = 0,\n",
        "                  max_tokens = 108)"
      ],
      "metadata": {
        "id": "EGoM0WMMkG6_"
      },
      "execution_count": null,
      "outputs": []
    },
    {
      "cell_type": "code",
      "source": [
        "string_parser = StrOutputParser()"
      ],
      "metadata": {
        "id": "z1-Ze3b8593A"
      },
      "execution_count": null,
      "outputs": []
    },
    {
      "cell_type": "code",
      "source": [
        "chain_long = (chat_template_tools | chat | string_parser | {'tools':RunnablePassthrough()} |\n",
        "              chat_template_strategy | chat | string_parser)"
      ],
      "metadata": {
        "id": "IGCeUQigF9o9"
      },
      "execution_count": null,
      "outputs": []
    },
    {
      "cell_type": "code",
      "source": [
        "!pip install grandalf"
      ],
      "metadata": {
        "id": "WWXllZu4Xm-t"
      },
      "execution_count": null,
      "outputs": []
    },
    {
      "cell_type": "code",
      "source": [
        "chain_long.get_graph().print_ascii()"
      ],
      "metadata": {
        "id": "p74nlMXPGBid"
      },
      "execution_count": null,
      "outputs": []
    },
    {
      "cell_type": "code",
      "source": [],
      "metadata": {
        "id": "gxXFGVvcXpox"
      },
      "execution_count": null,
      "outputs": []
    }
  ]
}