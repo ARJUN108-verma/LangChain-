{
  "nbformat": 4,
  "nbformat_minor": 0,
  "metadata": {
    "colab": {
      "private_outputs": true,
      "provenance": [],
      "authorship_tag": "ABX9TyMU5EtZNirprKQaazXfLy49",
      "include_colab_link": true
    },
    "kernelspec": {
      "name": "python3",
      "display_name": "Python 3"
    },
    "language_info": {
      "name": "python"
    }
  },
  "cells": [
    {
      "cell_type": "markdown",
      "metadata": {
        "id": "view-in-github",
        "colab_type": "text"
      },
      "source": [
        "<a href=\"https://colab.research.google.com/github/ARJUN108-verma/LangChain-/blob/main/28_Indexing_Text_embedding_with_OpenAI.ipynb\" target=\"_parent\"><img src=\"https://colab.research.google.com/assets/colab-badge.svg\" alt=\"Open In Colab\"/></a>"
      ]
    },
    {
      "cell_type": "markdown",
      "source": [
        "Indexing:- Text Embedding with OpenAI:-"
      ],
      "metadata": {
        "id": "ByveVK_KTiee"
      }
    },
    {
      "cell_type": "markdown",
      "source": [
        "Run the line of code below to check the version of langchain in the current environment.\n",
        "Substitute \"langchain\" with any other package name to check their version."
      ],
      "metadata": {
        "id": "yeopfLKjTxDc"
      }
    },
    {
      "cell_type": "code",
      "source": [
        "!pip show langchain"
      ],
      "metadata": {
        "id": "fKUPkedDT0CM"
      },
      "execution_count": null,
      "outputs": []
    },
    {
      "cell_type": "code",
      "source": [
        "!pip install dotenv"
      ],
      "metadata": {
        "id": "fPZ9KtmkUKHN"
      },
      "execution_count": null,
      "outputs": []
    },
    {
      "cell_type": "code",
      "source": [
        "%load_ext dotenv"
      ],
      "metadata": {
        "id": "zG2s0-52T2h8"
      },
      "execution_count": null,
      "outputs": []
    },
    {
      "cell_type": "code",
      "source": [
        "%dotenv"
      ],
      "metadata": {
        "id": "pafleiDMUHcB"
      },
      "execution_count": null,
      "outputs": []
    },
    {
      "cell_type": "code",
      "source": [
        "!pip install langchain_community"
      ],
      "metadata": {
        "id": "6sps21WhUug1"
      },
      "execution_count": null,
      "outputs": []
    },
    {
      "cell_type": "code",
      "source": [
        "from langchain_community.document_loaders import Docx2txtLoader"
      ],
      "metadata": {
        "id": "iHdLsDC8UPcp"
      },
      "execution_count": null,
      "outputs": []
    },
    {
      "cell_type": "code",
      "source": [
        "from langchain_text_splitters.markdown import MarkdownHeaderTextSplitter"
      ],
      "metadata": {
        "id": "CAEHSt4ZUr6R"
      },
      "execution_count": null,
      "outputs": []
    },
    {
      "cell_type": "code",
      "source": [
        "from langchain_text_splitters.character import CharacterTextSplitter"
      ],
      "metadata": {
        "id": "gpQwAH5sVT7L"
      },
      "execution_count": null,
      "outputs": []
    },
    {
      "cell_type": "code",
      "source": [
        "!pip install langchain_OpenAI"
      ],
      "metadata": {
        "id": "AOuOMpayVyMt"
      },
      "execution_count": null,
      "outputs": []
    },
    {
      "cell_type": "code",
      "source": [
        "from langchain_openai.embeddings import OpenAIEmbeddings"
      ],
      "metadata": {
        "id": "ChXhFaRwVi5q"
      },
      "execution_count": null,
      "outputs": []
    },
    {
      "cell_type": "code",
      "source": [
        "import numpy as np\n"
      ],
      "metadata": {
        "id": "zC0N9cZoVqhI"
      },
      "execution_count": null,
      "outputs": []
    },
    {
      "cell_type": "code",
      "source": [
        "loader_docx = Docx2txtLoader(\"/content/Introduction_to_Data_and_Data_Science_2.docx\")"
      ],
      "metadata": {
        "id": "I7zbhEU1Wmw0"
      },
      "execution_count": null,
      "outputs": []
    },
    {
      "cell_type": "code",
      "source": [
        "!pip install docx2txt"
      ],
      "metadata": {
        "id": "WP9x7UG6XuXN"
      },
      "execution_count": null,
      "outputs": []
    },
    {
      "cell_type": "code",
      "source": [
        "pages = loader_docx.load()"
      ],
      "metadata": {
        "id": "RCJw8y8CW9em"
      },
      "execution_count": null,
      "outputs": []
    },
    {
      "cell_type": "code",
      "source": [
        "md_splitter = MarkdownHeaderTextSplitter(\n",
        "    headers_to_split_on= [(\"#\",\"Course Title\"),\n",
        "                          (\"##\",\"Leacture Title\")]\n",
        ")"
      ],
      "metadata": {
        "id": "KxqlBICyXqWL"
      },
      "execution_count": null,
      "outputs": []
    },
    {
      "cell_type": "code",
      "source": [
        "pages_md_splitter = md_splitter.split_text(pages[0].page_content)"
      ],
      "metadata": {
        "id": "hA7XPEfZvvoG"
      },
      "execution_count": null,
      "outputs": []
    },
    {
      "cell_type": "code",
      "source": [
        "for i in range(len(pages_md_splitter)):\n",
        "  pages_md_splitter[i].page_content = \",\".join(pages_md_splitter[i].page_content.split())"
      ],
      "metadata": {
        "id": "BG7T-RXdv_sG"
      },
      "execution_count": null,
      "outputs": []
    },
    {
      "cell_type": "code",
      "source": [
        "char_splitter = CharacterTextSplitter(\n",
        "    separator= \".\",\n",
        "    chunk_size = 500,\n",
        "    chunk_overlap = 50\n",
        ")"
      ],
      "metadata": {
        "id": "ZkvJBndbwjSj"
      },
      "execution_count": null,
      "outputs": []
    },
    {
      "cell_type": "code",
      "source": [
        "pages_char_split = char_splitter.split_documents(pages_md_splitter)"
      ],
      "metadata": {
        "id": "-BLDAzCAw_4M"
      },
      "execution_count": null,
      "outputs": []
    },
    {
      "cell_type": "code",
      "source": [
        "pages_char_split"
      ],
      "metadata": {
        "id": "w6y7qpSXxThI"
      },
      "execution_count": null,
      "outputs": []
    },
    {
      "cell_type": "code",
      "source": [
        "embeddings = OpenAIEmbeddings(model = \"text-embedding-ada-002\")"
      ],
      "metadata": {
        "id": "--4m9XqMxXR6"
      },
      "execution_count": null,
      "outputs": []
    },
    {
      "cell_type": "code",
      "source": [
        "pages_char_split[18]"
      ],
      "metadata": {
        "id": "PvXcms7Jxml9"
      },
      "execution_count": null,
      "outputs": []
    },
    {
      "cell_type": "code",
      "source": [
        "vector1 = embedding.embed_query(pages_char_split[3].page_content)\n",
        "vector2 = embedding.embed_query(pages_char_split[5].page_content)\n",
        "vector3 = embedding.embed_query(pages_char_split[18].page_content)"
      ],
      "metadata": {
        "id": "-kaxvLIKxwAS"
      },
      "execution_count": null,
      "outputs": []
    },
    {
      "cell_type": "code",
      "source": [
        "len(vector1), len(vector2), len(vector3)"
      ],
      "metadata": {
        "id": "6sSWG63BxzuF"
      },
      "execution_count": null,
      "outputs": []
    },
    {
      "cell_type": "code",
      "source": [
        "np.dot(vector1, vector2), np.dot(vector1, vector3), np.dot(vector2, vector3)"
      ],
      "metadata": {
        "id": "sBrFKaRYx3nX"
      },
      "execution_count": null,
      "outputs": []
    },
    {
      "cell_type": "code",
      "source": [
        "np.linalg.norm(vector1), np.linalg.norm(vector2), np.linalg.norm(vector3)"
      ],
      "metadata": {
        "id": "0MMog0GZx7A9"
      },
      "execution_count": null,
      "outputs": []
    },
    {
      "cell_type": "code",
      "source": [],
      "metadata": {
        "id": "3LSilh4_x-iI"
      },
      "execution_count": null,
      "outputs": []
    }
  ]
}