{
  "nbformat": 4,
  "nbformat_minor": 0,
  "metadata": {
    "colab": {
      "private_outputs": true,
      "provenance": [],
      "authorship_tag": "ABX9TyOAaVQmQYH4wSrWsKV/G9yx",
      "include_colab_link": true
    },
    "kernelspec": {
      "name": "python3",
      "display_name": "Python 3"
    },
    "language_info": {
      "name": "python"
    }
  },
  "cells": [
    {
      "cell_type": "markdown",
      "metadata": {
        "id": "view-in-github",
        "colab_type": "text"
      },
      "source": [
        "<a href=\"https://colab.research.google.com/github/ARJUN108-verma/LangChain-/blob/main/23_The__chain_Decorator.ipynb\" target=\"_parent\"><img src=\"https://colab.research.google.com/assets/colab-badge.svg\" alt=\"Open In Colab\"/></a>"
      ]
    },
    {
      "cell_type": "markdown",
      "source": [
        "The @Chain Decorator:-"
      ],
      "metadata": {
        "id": "0LX2YcB2sbPA"
      }
    },
    {
      "cell_type": "markdown",
      "source": [
        "Run the line of code below to check the version of langchain in the current environment."
      ],
      "metadata": {
        "id": "r3jCjNEps4O4"
      }
    },
    {
      "cell_type": "markdown",
      "source": [
        "Substitute \"langchain\" with any other package name to check their version."
      ],
      "metadata": {
        "id": "9LcdpOEXs5VH"
      }
    },
    {
      "cell_type": "code",
      "execution_count": null,
      "metadata": {
        "id": "LRyukOgLsRUA"
      },
      "outputs": [],
      "source": [
        "!pip show langchain"
      ]
    },
    {
      "cell_type": "code",
      "source": [
        "from langchain_core.runnables import RunnableLambda , chain"
      ],
      "metadata": {
        "id": "N1XBPm8etAFF"
      },
      "execution_count": null,
      "outputs": []
    },
    {
      "cell_type": "code",
      "source": [
        "def find_sum(x):\n",
        "  return sum(x)"
      ],
      "metadata": {
        "id": "FzoxlQmitmAu"
      },
      "execution_count": null,
      "outputs": []
    },
    {
      "cell_type": "code",
      "source": [
        "def find_square(x):\n",
        "  return x**2"
      ],
      "metadata": {
        "id": "mG-6RqTTt4Z1"
      },
      "execution_count": null,
      "outputs": []
    },
    {
      "cell_type": "code",
      "source": [
        "chain1 = RunnableLambda(find_sum) | RunnableLambda(find_square)"
      ],
      "metadata": {
        "id": "jxtLiv9Yt_BM"
      },
      "execution_count": null,
      "outputs": []
    },
    {
      "cell_type": "code",
      "source": [
        "chain1.invoke([1, 2, 5])"
      ],
      "metadata": {
        "id": "oALzylCwuJ4T"
      },
      "execution_count": null,
      "outputs": []
    },
    {
      "cell_type": "code",
      "source": [
        "@chain\n",
        "def runnable_sum(x):\n",
        "  return sum(x)"
      ],
      "metadata": {
        "id": "dQ24Fz4QuRvm"
      },
      "execution_count": null,
      "outputs": []
    },
    {
      "cell_type": "code",
      "source": [
        "@chain\n",
        "def runnable_square(x):\n",
        "  return x**2"
      ],
      "metadata": {
        "id": "Ks9QGdiOubnp"
      },
      "execution_count": null,
      "outputs": []
    },
    {
      "cell_type": "code",
      "source": [
        "type(runnable_sum), type(runnable_square)"
      ],
      "metadata": {
        "id": "cHan_xKwuiaC"
      },
      "execution_count": null,
      "outputs": []
    },
    {
      "cell_type": "code",
      "source": [
        "chain2 = runnable_sum | runnable_square"
      ],
      "metadata": {
        "id": "eGdCRhlcvAdI"
      },
      "execution_count": null,
      "outputs": []
    },
    {
      "cell_type": "code",
      "source": [
        "chain2.invoke([1, 3, 5])"
      ],
      "metadata": {
        "id": "6rPWuCMovR6z"
      },
      "execution_count": null,
      "outputs": []
    },
    {
      "cell_type": "code",
      "source": [],
      "metadata": {
        "id": "Ei0rgKRlvXUk"
      },
      "execution_count": null,
      "outputs": []
    }
  ]
}