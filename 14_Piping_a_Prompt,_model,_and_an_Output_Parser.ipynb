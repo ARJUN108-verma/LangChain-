{
  "nbformat": 4,
  "nbformat_minor": 0,
  "metadata": {
    "colab": {
      "private_outputs": true,
      "provenance": [],
      "authorship_tag": "ABX9TyPN6pA79wWyGkucDTTV2wbZ",
      "include_colab_link": true
    },
    "kernelspec": {
      "name": "python3",
      "display_name": "Python 3"
    },
    "language_info": {
      "name": "python"
    }
  },
  "cells": [
    {
      "cell_type": "markdown",
      "metadata": {
        "id": "view-in-github",
        "colab_type": "text"
      },
      "source": [
        "<a href=\"https://colab.research.google.com/github/ARJUN108-verma/LangChain-/blob/main/14_Piping_a_Prompt%2C_model%2C_and_an_Output_Parser.ipynb\" target=\"_parent\"><img src=\"https://colab.research.google.com/assets/colab-badge.svg\" alt=\"Open In Colab\"/></a>"
      ]
    },
    {
      "cell_type": "markdown",
      "source": [
        "Piping a Prompt, model, and an Output Parser:-"
      ],
      "metadata": {
        "id": "0wbUEu56RdV6"
      }
    },
    {
      "cell_type": "code",
      "execution_count": null,
      "metadata": {
        "id": "fFjmfaQnRB-O"
      },
      "outputs": [],
      "source": [
        "pip show langchain"
      ]
    },
    {
      "cell_type": "code",
      "source": [
        "!pip install dotenv"
      ],
      "metadata": {
        "id": "mYCybbVrR6Jx"
      },
      "execution_count": null,
      "outputs": []
    },
    {
      "cell_type": "code",
      "source": [
        "%load_ext dotenv\n",
        "%dotenv"
      ],
      "metadata": {
        "id": "o5z1aD0TRsJH"
      },
      "execution_count": null,
      "outputs": []
    },
    {
      "cell_type": "code",
      "source": [
        "!pip install langchain_openai"
      ],
      "metadata": {
        "id": "QNIv1aJ6Sod4"
      },
      "execution_count": null,
      "outputs": []
    },
    {
      "cell_type": "code",
      "source": [
        "from langchain_openai import ChatOpenAI"
      ],
      "metadata": {
        "id": "ZKcVNU-yR3u7"
      },
      "execution_count": null,
      "outputs": []
    },
    {
      "cell_type": "code",
      "source": [
        "from langchain_core.prompts import ChatPromptTemplate"
      ],
      "metadata": {
        "id": "8h5Ua-lNSlzJ"
      },
      "execution_count": null,
      "outputs": []
    },
    {
      "cell_type": "code",
      "source": [
        "from langchain_core.output_parsers import CommaSeparatedListOutputParser"
      ],
      "metadata": {
        "id": "EP-reV4hS5rC"
      },
      "execution_count": null,
      "outputs": []
    },
    {
      "cell_type": "code",
      "source": [
        "list_instructions = CommaSeparatedListOutputParser().get_format_instructions()"
      ],
      "metadata": {
        "id": "tTOkr1kwTGV0"
      },
      "execution_count": null,
      "outputs": []
    },
    {
      "cell_type": "code",
      "source": [
        "list_instructions"
      ],
      "metadata": {
        "id": "-owVMRPgT27K"
      },
      "execution_count": null,
      "outputs": []
    },
    {
      "cell_type": "code",
      "source": [
        "chat_template = ChatPromptTemplate.from_messages([\n",
        "    ('human',\n",
        "     \"I've recently adopted a {pet}. Could you suggest three {pet} names? \\n\" + list_instructions)])"
      ],
      "metadata": {
        "id": "Z7Xaz7NAT7te"
      },
      "execution_count": null,
      "outputs": []
    },
    {
      "cell_type": "code",
      "source": [
        "print(chat_template.messages[0].prompt.template)"
      ],
      "metadata": {
        "id": "RRP5nR3rU__Z"
      },
      "execution_count": null,
      "outputs": []
    },
    {
      "cell_type": "code",
      "source": [
        "chat = ChatOpenAI(api_key = \"Enter Openai API\",\n",
        "                  model_name = 'gpt-4o',\n",
        "                  model_kwargs = {'seed':108},\n",
        "                  temperature = 0,\n",
        "                  max_tokens = 365)"
      ],
      "metadata": {
        "id": "9LGfX9JJVdWe"
      },
      "execution_count": null,
      "outputs": []
    },
    {
      "cell_type": "code",
      "source": [
        "list_output_parser = CommaSeparatedListOutputParser()"
      ],
      "metadata": {
        "id": "_IADiagXWa8M"
      },
      "execution_count": null,
      "outputs": []
    },
    {
      "cell_type": "code",
      "source": [
        "chat_template_result = chat_template.invoke({'pet':'dog'})"
      ],
      "metadata": {
        "id": "dbycn_YZW_r6"
      },
      "execution_count": null,
      "outputs": []
    },
    {
      "cell_type": "code",
      "source": [
        "chat_result = chat.invoke(chat_template_result)"
      ],
      "metadata": {
        "id": "dY8rdjbkXOYq"
      },
      "execution_count": null,
      "outputs": []
    },
    {
      "cell_type": "code",
      "source": [
        "list_output_parser.invoke(chat_result)"
      ],
      "metadata": {
        "id": "FsprwPs5XeCS"
      },
      "execution_count": null,
      "outputs": []
    },
    {
      "cell_type": "code",
      "source": [
        "chain = chat_template | chat | lis_output_parser"
      ],
      "metadata": {
        "id": "sUSVo6q4X9oM"
      },
      "execution_count": null,
      "outputs": []
    },
    {
      "cell_type": "code",
      "source": [
        "chain.invoke({'pet':'dog'})"
      ],
      "metadata": {
        "id": "37ZO40zgYOcA"
      },
      "execution_count": null,
      "outputs": []
    },
    {
      "cell_type": "code",
      "source": [],
      "metadata": {
        "id": "BssUbeITYWKz"
      },
      "execution_count": null,
      "outputs": []
    }
  ]
}