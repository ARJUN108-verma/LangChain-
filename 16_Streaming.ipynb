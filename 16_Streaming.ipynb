{
  "nbformat": 4,
  "nbformat_minor": 0,
  "metadata": {
    "colab": {
      "private_outputs": true,
      "provenance": [],
      "authorship_tag": "ABX9TyOJ/APT81bcXMuwMM4XiiMF",
      "include_colab_link": true
    },
    "kernelspec": {
      "name": "python3",
      "display_name": "Python 3"
    },
    "language_info": {
      "name": "python"
    }
  },
  "cells": [
    {
      "cell_type": "markdown",
      "metadata": {
        "id": "view-in-github",
        "colab_type": "text"
      },
      "source": [
        "<a href=\"https://colab.research.google.com/github/ARJUN108-verma/LangChain-/blob/main/16_Streaming.ipynb\" target=\"_parent\"><img src=\"https://colab.research.google.com/assets/colab-badge.svg\" alt=\"Open In Colab\"/></a>"
      ]
    },
    {
      "cell_type": "markdown",
      "source": [
        "Streaming:-"
      ],
      "metadata": {
        "id": "rg_OrTaMirDy"
      }
    },
    {
      "cell_type": "code",
      "execution_count": null,
      "metadata": {
        "id": "wPCuy0q9iiM3"
      },
      "outputs": [],
      "source": [
        "pip show langchain"
      ]
    },
    {
      "cell_type": "code",
      "source": [
        "!pip install dotenv"
      ],
      "metadata": {
        "id": "yhxKV4v9jACi"
      },
      "execution_count": null,
      "outputs": []
    },
    {
      "cell_type": "code",
      "source": [
        "%load_ext dotenv"
      ],
      "metadata": {
        "id": "J8WVoyuYi3NE"
      },
      "execution_count": null,
      "outputs": []
    },
    {
      "cell_type": "code",
      "source": [
        "%dotenv"
      ],
      "metadata": {
        "id": "3sGJSaXNi9Fo"
      },
      "execution_count": null,
      "outputs": []
    },
    {
      "cell_type": "code",
      "source": [
        "from langchain_core.prompts import ChatPromptTemplate"
      ],
      "metadata": {
        "id": "ioD3kxJQjEPD"
      },
      "execution_count": null,
      "outputs": []
    },
    {
      "cell_type": "code",
      "source": [
        "!pip install langchain_openai"
      ],
      "metadata": {
        "id": "mIb8F9WSjeqc"
      },
      "execution_count": null,
      "outputs": []
    },
    {
      "cell_type": "code",
      "source": [
        "from langchain_openai import ChatOpenAI"
      ],
      "metadata": {
        "id": "Sj4VBGZUjR-L"
      },
      "execution_count": null,
      "outputs": []
    },
    {
      "cell_type": "code",
      "source": [
        "chat_template = ChatPromptTemplate.from_messages([\n",
        "    ('human',\n",
        "     \"I've recently adopted a {pet} which is a {breed}. Could you suggest several training tips?\")])"
      ],
      "metadata": {
        "id": "JbhTsj7yjb5P"
      },
      "execution_count": null,
      "outputs": []
    },
    {
      "cell_type": "code",
      "source": [
        "chat = ChatOpenAI(api_key = \"Enter openAI API\",\n",
        "                  model_name = 'gpt-4o',\n",
        "                  model_kwargs= {'seed':365},\n",
        "                  temperature = 0,\n",
        "                  max_tokens = 108)"
      ],
      "metadata": {
        "id": "EGoM0WMMkG6_"
      },
      "execution_count": null,
      "outputs": []
    },
    {
      "cell_type": "code",
      "source": [
        "chain = chat_template | chat"
      ],
      "metadata": {
        "id": "tFgxXt3ot-ia"
      },
      "execution_count": null,
      "outputs": []
    },
    {
      "cell_type": "code",
      "source": [
        "response = chain.invoke({'pet':'dog', 'breed':'shepherd'})"
      ],
      "metadata": {
        "id": "TFORx1UbuK7B"
      },
      "execution_count": null,
      "outputs": []
    },
    {
      "cell_type": "code",
      "source": [
        "next(response)"
      ],
      "metadata": {
        "id": "Q3tKIOZV0A00"
      },
      "execution_count": null,
      "outputs": []
    },
    {
      "cell_type": "code",
      "source": [
        "for i in response:\n",
        "  print(i.content, end=\"  \")"
      ],
      "metadata": {
        "id": "5SrhMSgf0G6t"
      },
      "execution_count": null,
      "outputs": []
    }
  ]
}